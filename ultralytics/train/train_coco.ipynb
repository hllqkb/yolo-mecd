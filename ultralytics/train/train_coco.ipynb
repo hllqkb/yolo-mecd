{
 "cells": [
  {
   "cell_type": "code",
   "execution_count": 2,
   "id": "2a736513",
   "metadata": {},
   "outputs": [
    {
     "data": {
      "text/plain": [
       "'/home/hllqk/projects/yolo-mecd/ultralytics/train'"
      ]
     },
     "execution_count": 2,
     "metadata": {},
     "output_type": "execute_result"
    }
   ],
   "source": [
    "pwd"
   ]
  },
  {
   "cell_type": "code",
   "execution_count": null,
   "id": "2a10678b",
   "metadata": {},
   "outputs": [
    {
     "name": "stdout",
     "output_type": "stream",
     "text": [
      "划分完成：\n",
      "- 新训练集: 368张\n",
      "- 验证集: 92张\n",
      "- 原测试集: 119张（保持不变）\n"
     ]
    }
   ],
   "source": [
    "# 划分训练集和验证集\n",
    "import json\n",
    "import os\n",
    "from sklearn.model_selection import train_test_split\n",
    "\n",
    "# 路径配置\n",
    "dataset_root = \"../datasets/dataverse_files\"\n",
    "train_json = os.path.join(dataset_root, \"CitDet-train/train/train_annotations.json\")\n",
    "test_json = os.path.join(dataset_root, \"CitDet-test/test/test_annotations.json\")\n",
    "\n",
    "# 创建验证集目录\n",
    "os.makedirs(os.path.join(dataset_root, \"CitDet-val\"), exist_ok=True)\n",
    "\n",
    "# 加载原始训练集标注\n",
    "with open(train_json) as f:\n",
    "    train_data = json.load(f)\n",
    "\n",
    "image_ids = [img[\"id\"] for img in train_data[\"images\"]]\n",
    "# 将train_data拆分为训练集和验证集按8:2比例划分\n",
    "train_ids, val_ids = train_test_split(image_ids, test_size=0.2, random_state=42)\n",
    "\n",
    "def filter_coco(data, keep_ids):\n",
    "    \"\"\"过滤COCO数据集中指定image_id的条目\"\"\"\n",
    "    return {\n",
    "        \"images\": [img for img in data[\"images\"] if img[\"id\"] in keep_ids],\n",
    "        \"annotations\": [ann for ann in data[\"annotations\"] if ann[\"image_id\"] in keep_ids],\n",
    "        \"categories\": data[\"categories\"]\n",
    "    }\n",
    "\n",
    "# 保存新标注文件\n",
    "with open(os.path.join(dataset_root, \"CitDet-train/train_split.json\"), \"w\") as f:\n",
    "    json.dump(filter_coco(train_data, train_ids), f)\n",
    "\n",
    "with open(os.path.join(dataset_root, \"CitDet-val/val_split.json\"), \"w\") as f:\n",
    "    json.dump(filter_coco(train_data, val_ids), f)\n",
    "\n",
    "print(f\"划分完成：\\n\"\n",
    "      f\"- 新训练集: {len(train_ids)}张\\n\"\n",
    "      f\"- 验证集: {len(val_ids)}张\\n\"\n",
    "      f\"- 原测试集: 119张（保持不变）\")"
   ]
  },
  {
   "cell_type": "code",
   "execution_count": 8,
   "id": "53df7cb4",
   "metadata": {},
   "outputs": [
    {
     "name": "stdout",
     "output_type": "stream",
     "text": [
      "[{'id': 0, 'name': 'Fruit-Citrus-0GcP', 'supercategory': 'none'}, {'id': 1, 'name': 'Fruit on Ground', 'supercategory': 'Fruit-Citrus-0GcP'}, {'id': 2, 'name': 'Fruit on Tree', 'supercategory': 'Fruit-Citrus-0GcP'}]\n"
     ]
    }
   ],
   "source": [
    "with open(os.path.join(dataset_root, \"CitDet-train/train_split.json\"), \"r\") as f:\n",
    "    coco_data = json.load(f)\n",
    "coco_categories = coco_data[\"categories\"]\n",
    "print(coco_categories)\n"
   ]
  },
  {
   "cell_type": "code",
   "execution_count": null,
   "id": "621479dd",
   "metadata": {},
   "outputs": [],
   "source": [
    "# Train a detection model on the COCO dataset\n",
    "# location="
   ]
  },
  {
   "cell_type": "code",
   "execution_count": null,
   "id": "ab9abb42",
   "metadata": {},
   "outputs": [],
   "source": []
  },
  {
   "cell_type": "code",
   "execution_count": null,
   "id": "c6b002fe",
   "metadata": {},
   "outputs": [],
   "source": []
  },
  {
   "cell_type": "code",
   "execution_count": null,
   "id": "d77d0dba",
   "metadata": {},
   "outputs": [],
   "source": []
  },
  {
   "cell_type": "code",
   "execution_count": null,
   "id": "756bf42f",
   "metadata": {},
   "outputs": [],
   "source": []
  },
  {
   "cell_type": "code",
   "execution_count": null,
   "id": "8614ffee",
   "metadata": {},
   "outputs": [],
   "source": []
  },
  {
   "cell_type": "code",
   "execution_count": null,
   "id": "2c4b2e91",
   "metadata": {},
   "outputs": [],
   "source": []
  },
  {
   "cell_type": "code",
   "execution_count": null,
   "id": "65cb6a37",
   "metadata": {},
   "outputs": [],
   "source": []
  }
 ],
 "metadata": {
  "kernelspec": {
   "display_name": "deeplearn",
   "language": "python",
   "name": "python3"
  },
  "language_info": {
   "codemirror_mode": {
    "name": "ipython",
    "version": 3
   },
   "file_extension": ".py",
   "mimetype": "text/x-python",
   "name": "python",
   "nbconvert_exporter": "python",
   "pygments_lexer": "ipython3",
   "version": "3.10.18"
  }
 },
 "nbformat": 4,
 "nbformat_minor": 5
}
